{
  "nbformat": 4,
  "nbformat_minor": 0,
  "metadata": {
    "colab": {
      "provenance": [],
      "collapsed_sections": [],
      "mount_file_id": "1BdbBetYnAe7XwWSa0yg7DuZDxYm480oF",
      "authorship_tag": "ABX9TyMltomhd5eLR+WDpVLTVmNT",
      "include_colab_link": true
    },
    "kernelspec": {
      "name": "python3",
      "display_name": "Python 3"
    },
    "language_info": {
      "name": "python"
    },
    "accelerator": "GPU",
    "widgets": {
      "application/vnd.jupyter.widget-state+json": {
        "129848597d8f40d08cc370e047d3d40f": {
          "model_module": "@jupyter-widgets/controls",
          "model_name": "IntProgressModel",
          "model_module_version": "1.5.0",
          "state": {
            "_dom_classes": [],
            "_model_module": "@jupyter-widgets/controls",
            "_model_module_version": "1.5.0",
            "_model_name": "IntProgressModel",
            "_view_count": null,
            "_view_module": "@jupyter-widgets/controls",
            "_view_module_version": "1.5.0",
            "_view_name": "ProgressView",
            "bar_style": "",
            "description": "",
            "description_tooltip": null,
            "layout": "IPY_MODEL_56dc56e24a9f4f6db947d1a9dbfecde3",
            "max": 300,
            "min": 0,
            "orientation": "horizontal",
            "style": "IPY_MODEL_537092dae1d04d9a82a1dc0b06a8f380",
            "value": 5
          }
        },
        "56dc56e24a9f4f6db947d1a9dbfecde3": {
          "model_module": "@jupyter-widgets/base",
          "model_name": "LayoutModel",
          "model_module_version": "1.2.0",
          "state": {
            "_model_module": "@jupyter-widgets/base",
            "_model_module_version": "1.2.0",
            "_model_name": "LayoutModel",
            "_view_count": null,
            "_view_module": "@jupyter-widgets/base",
            "_view_module_version": "1.2.0",
            "_view_name": "LayoutView",
            "align_content": null,
            "align_items": null,
            "align_self": null,
            "border": null,
            "bottom": null,
            "display": null,
            "flex": null,
            "flex_flow": null,
            "grid_area": null,
            "grid_auto_columns": null,
            "grid_auto_flow": null,
            "grid_auto_rows": null,
            "grid_column": null,
            "grid_gap": null,
            "grid_row": null,
            "grid_template_areas": null,
            "grid_template_columns": null,
            "grid_template_rows": null,
            "height": null,
            "justify_content": null,
            "justify_items": null,
            "left": null,
            "margin": null,
            "max_height": null,
            "max_width": null,
            "min_height": null,
            "min_width": null,
            "object_fit": null,
            "object_position": null,
            "order": null,
            "overflow": null,
            "overflow_x": null,
            "overflow_y": null,
            "padding": null,
            "right": null,
            "top": null,
            "visibility": null,
            "width": null
          }
        },
        "537092dae1d04d9a82a1dc0b06a8f380": {
          "model_module": "@jupyter-widgets/controls",
          "model_name": "ProgressStyleModel",
          "model_module_version": "1.5.0",
          "state": {
            "_model_module": "@jupyter-widgets/controls",
            "_model_module_version": "1.5.0",
            "_model_name": "ProgressStyleModel",
            "_view_count": null,
            "_view_module": "@jupyter-widgets/base",
            "_view_module_version": "1.2.0",
            "_view_name": "StyleView",
            "bar_color": null,
            "description_width": ""
          }
        }
      }
    }
  },
  "cells": [
    {
      "cell_type": "markdown",
      "metadata": {
        "id": "view-in-github",
        "colab_type": "text"
      },
      "source": [
        "<a href=\"https://colab.research.google.com/github/jkrperson/volatility_prediction/blob/main/Volatility_Prediction.ipynb\" target=\"_parent\"><img src=\"https://colab.research.google.com/assets/colab-badge.svg\" alt=\"Open In Colab\"/></a>"
      ]
    },
    {
      "cell_type": "markdown",
      "source": [
        "## Download data (should be another python notebbook)"
      ],
      "metadata": {
        "id": "8USrUfwDdp5E"
      }
    },
    {
      "cell_type": "code",
      "execution_count": null,
      "metadata": {
        "colab": {
          "base_uri": "https://localhost:8080/"
        },
        "id": "AzGaX6-mB9OW",
        "outputId": "c0a39c85-6ee1-4acd-ed37-5f2d303fa2b0"
      },
      "outputs": [
        {
          "output_type": "stream",
          "name": "stdout",
          "text": [
            "Looking in indexes: https://pypi.org/simple, https://us-python.pkg.dev/colab-wheels/public/simple/\n",
            "Collecting wget\n",
            "  Downloading wget-3.2.zip (10 kB)\n",
            "Building wheels for collected packages: wget\n",
            "  Building wheel for wget (setup.py) ... \u001b[?25l\u001b[?25hdone\n",
            "  Created wheel for wget: filename=wget-3.2-py3-none-any.whl size=9675 sha256=c04ee4dbc9bdc960c6d70f25cc39aaa82d498ef285a1ef5d2f9a14c60f499ece\n",
            "  Stored in directory: /root/.cache/pip/wheels/a1/b6/7c/0e63e34eb06634181c63adacca38b79ff8f35c37e3c13e3c02\n",
            "Successfully built wget\n",
            "Installing collected packages: wget\n",
            "Successfully installed wget-3.2\n"
          ]
        }
      ],
      "source": [
        "!pip install wget"
      ]
    },
    {
      "cell_type": "code",
      "execution_count": null,
      "metadata": {
        "id": "ljQVCaabesPU"
      },
      "outputs": [],
      "source": [
        "import wget"
      ]
    },
    {
      "cell_type": "code",
      "source": [
        "# begin = datetime.datetime(2021,3,1)\n",
        "# end = datetime.datetime.now() - datetime.timedelta(days=2)\n",
        "# ldf = []\n",
        "\n",
        "# while begin <= end:\n",
        "#   url = \"https://data.binance.vision/data/spot/daily/klines/BTCBUSD/1m/BTCBUSD-1m-{date}.zip\".format(date=begin.strftime(\"%Y-%m-%d\"))\n",
        "#   filename = wget.download(url, out=data_out_path)\n",
        "#   # csv_file = shutil.unpack_archive(filename, csv_out_path)\n",
        "#   # path = \"/content/binance_data_csv/BTCBUSD-1m-{date}.csv\".format(date=begin.strftime(\"%Y-%m-%d\"))\n",
        "#   # ldf.append(pd.read_csv(path, header=None))\n",
        "#   begin = begin + datetime.timedelta(days=1)\n",
        "\n",
        "# btcbusd_pd = pd.concat(ldf, axis=0, ignore_index=True)"
      ],
      "metadata": {
        "id": "6F7yPtoXfizg"
      },
      "execution_count": null,
      "outputs": []
    },
    {
      "cell_type": "markdown",
      "source": [
        "## Extract data from CSV files"
      ],
      "metadata": {
        "id": "9d7huGYLdutj"
      }
    },
    {
      "cell_type": "code",
      "source": [
        "!pip install arch"
      ],
      "metadata": {
        "id": "KyXib72AdkIw"
      },
      "execution_count": null,
      "outputs": []
    },
    {
      "cell_type": "code",
      "source": [
        "import datetime\n",
        "import shutil\n",
        "import pandas as pd\n",
        "import os"
      ],
      "metadata": {
        "id": "rqwbKqvpgqqp"
      },
      "execution_count": null,
      "outputs": []
    },
    {
      "cell_type": "code",
      "source": [
        "# Create folders\n",
        "\n",
        "data_out_path = \"/content/binance_data_zip\"\n",
        "csv_out_path = \"/content/binance_data_csv\"\n",
        "if not os.path.exists(data_out_path):\n",
        "  os.makedirs(data_out_path)\n",
        "\n",
        "if not os.path.exists(csv_out_path):\n",
        "  os.makedirs(csv_out_path)"
      ],
      "metadata": {
        "id": "PcMN_BeOEmTS"
      },
      "execution_count": null,
      "outputs": []
    },
    {
      "cell_type": "code",
      "source": [
        "import numpy as np\n",
        "import pandas as pd\n",
        "import os\n",
        "import glob\n",
        "import seaborn as sns"
      ],
      "metadata": {
        "id": "r57GN8lBdc4t"
      },
      "execution_count": null,
      "outputs": []
    },
    {
      "cell_type": "code",
      "source": [
        "# import necessary libraries\n",
        "\n",
        "\n",
        "path = \"/content/drive/MyDrive/Quant Dataset/binance_data_csv\"\n",
        "csv_files = glob.glob(os.path.join(path, \"*.csv\"))\n",
        "\n",
        "ldf = []\n",
        "for f in csv_files:\n",
        "\t\n",
        "\t# read the csv file\n",
        "  ldf.append(pd.read_csv(f, header=None))\n",
        " \n",
        "btcbusd_pd = pd.concat(ldf, axis=0, ignore_index=True)\n"
      ],
      "metadata": {
        "id": "9y0Sg3p38GRL"
      },
      "execution_count": null,
      "outputs": []
    },
    {
      "cell_type": "markdown",
      "source": [
        "## Arrange Data"
      ],
      "metadata": {
        "id": "4vvqCIoOMxAa"
      }
    },
    {
      "cell_type": "code",
      "source": [
        "btcbusd_pd.columns = [\"Open time\", \"Open\", \"High\", \"Low\", \"Close\", \"Volume\", \n",
        "                      \"Close Time\", \"Quote asset volume\", \"No. of Trades\",\n",
        "                      \"Taker buy base asset volume\", \"Taker buy quote assete volume\",\n",
        "                      \"Ignore\"]"
      ],
      "metadata": {
        "id": "PvmKRejCE_9x"
      },
      "execution_count": null,
      "outputs": []
    },
    {
      "cell_type": "code",
      "source": [
        "btcbusd_pd[\"Timestamp\"] = pd.to_datetime(btcbusd_pd[\"Open time\"]*1e6)"
      ],
      "metadata": {
        "id": "nH44XEuNU7a4"
      },
      "execution_count": null,
      "outputs": []
    },
    {
      "cell_type": "code",
      "source": [
        "close_prices = btcbusd_pd[\"Close\"]"
      ],
      "metadata": {
        "id": "W0064bfAWiOd"
      },
      "execution_count": null,
      "outputs": []
    },
    {
      "cell_type": "code",
      "source": [
        "returns = close_prices.pct_change().dropna() * 100"
      ],
      "metadata": {
        "id": "CD95HNX99MyU"
      },
      "execution_count": null,
      "outputs": []
    },
    {
      "cell_type": "markdown",
      "source": [
        "## GARCH MODEL"
      ],
      "metadata": {
        "id": "XVWl4OmqMUyA"
      }
    },
    {
      "cell_type": "code",
      "source": [
        "import arch"
      ],
      "metadata": {
        "id": "5qMLa8ioHK2H"
      },
      "execution_count": null,
      "outputs": []
    },
    {
      "cell_type": "code",
      "source": [
        "train = returns[:60] * 10"
      ],
      "metadata": {
        "id": "9xBOM-WhlAzs"
      },
      "execution_count": null,
      "outputs": []
    },
    {
      "cell_type": "code",
      "source": [
        "garch = arch.arch_model(train, vol='garch', p=1, o=0, q=1)\n",
        "garch_fitted = garch.fit()"
      ],
      "metadata": {
        "colab": {
          "base_uri": "https://localhost:8080/"
        },
        "id": "UVNAMPrxHlXg",
        "outputId": "249682df-e77c-4f88-c4e9-251f60dec12c"
      },
      "execution_count": null,
      "outputs": [
        {
          "output_type": "stream",
          "name": "stdout",
          "text": [
            "Iteration:      1,   Func. Count:      6,   Neg. LLF: 78766941.29094008\n",
            "Iteration:      2,   Func. Count:     13,   Neg. LLF: 636.1436116825506\n",
            "Iteration:      3,   Func. Count:     21,   Neg. LLF: 147.8982191301055\n",
            "Iteration:      4,   Func. Count:     27,   Neg. LLF: 131.37574611112407\n",
            "Iteration:      5,   Func. Count:     33,   Neg. LLF: 126.26650646583813\n",
            "Iteration:      6,   Func. Count:     39,   Neg. LLF: 124.83828051995609\n",
            "Iteration:      7,   Func. Count:     45,   Neg. LLF: 123.21543775961821\n",
            "Iteration:      8,   Func. Count:     50,   Neg. LLF: 124.41163025011828\n",
            "Iteration:      9,   Func. Count:     56,   Neg. LLF: 122.47148623535404\n",
            "Iteration:     10,   Func. Count:     61,   Neg. LLF: 122.46556077310622\n",
            "Iteration:     11,   Func. Count:     66,   Neg. LLF: 122.45960429220926\n",
            "Iteration:     12,   Func. Count:     71,   Neg. LLF: 122.45960167849994\n",
            "Iteration:     13,   Func. Count:     75,   Neg. LLF: 122.45960167862\n",
            "Optimization terminated successfully    (Exit mode 0)\n",
            "            Current function value: 122.45960167849994\n",
            "            Iterations: 13\n",
            "            Function evaluations: 75\n",
            "            Gradient evaluations: 13\n"
          ]
        }
      ]
    },
    {
      "cell_type": "code",
      "source": [
        "forecast = garch_fitted.forecast(horizon=1, reindex=False)\n",
        "variance_fore = forecast.variance.iloc[-1][0]"
      ],
      "metadata": {
        "id": "5OfrTjAPH1kU"
      },
      "execution_count": null,
      "outputs": []
    },
    {
      "cell_type": "code",
      "source": [
        "forecast.variance"
      ],
      "metadata": {
        "colab": {
          "base_uri": "https://localhost:8080/",
          "height": 81
        },
        "id": "nd1nv2xMmtZb",
        "outputId": "35779e16-278c-46a1-b295-9284262be60e"
      },
      "execution_count": null,
      "outputs": [
        {
          "output_type": "execute_result",
          "data": {
            "text/plain": [
              "        h.01     h.02      h.03      h.04      h.05      h.06      h.07  \\\n",
              "60  1.297841  1.26397  1.230983  1.198856  1.167569  1.137097  1.107421   \n",
              "\n",
              "       h.08      h.09     h.10  \n",
              "60  1.07852  1.050372  1.02296  "
            ],
            "text/html": [
              "\n",
              "  <div id=\"df-ca7bc90c-1877-4389-b245-ec9f645dedf4\">\n",
              "    <div class=\"colab-df-container\">\n",
              "      <div>\n",
              "<style scoped>\n",
              "    .dataframe tbody tr th:only-of-type {\n",
              "        vertical-align: middle;\n",
              "    }\n",
              "\n",
              "    .dataframe tbody tr th {\n",
              "        vertical-align: top;\n",
              "    }\n",
              "\n",
              "    .dataframe thead th {\n",
              "        text-align: right;\n",
              "    }\n",
              "</style>\n",
              "<table border=\"1\" class=\"dataframe\">\n",
              "  <thead>\n",
              "    <tr style=\"text-align: right;\">\n",
              "      <th></th>\n",
              "      <th>h.01</th>\n",
              "      <th>h.02</th>\n",
              "      <th>h.03</th>\n",
              "      <th>h.04</th>\n",
              "      <th>h.05</th>\n",
              "      <th>h.06</th>\n",
              "      <th>h.07</th>\n",
              "      <th>h.08</th>\n",
              "      <th>h.09</th>\n",
              "      <th>h.10</th>\n",
              "    </tr>\n",
              "  </thead>\n",
              "  <tbody>\n",
              "    <tr>\n",
              "      <th>60</th>\n",
              "      <td>1.297841</td>\n",
              "      <td>1.26397</td>\n",
              "      <td>1.230983</td>\n",
              "      <td>1.198856</td>\n",
              "      <td>1.167569</td>\n",
              "      <td>1.137097</td>\n",
              "      <td>1.107421</td>\n",
              "      <td>1.07852</td>\n",
              "      <td>1.050372</td>\n",
              "      <td>1.02296</td>\n",
              "    </tr>\n",
              "  </tbody>\n",
              "</table>\n",
              "</div>\n",
              "      <button class=\"colab-df-convert\" onclick=\"convertToInteractive('df-ca7bc90c-1877-4389-b245-ec9f645dedf4')\"\n",
              "              title=\"Convert this dataframe to an interactive table.\"\n",
              "              style=\"display:none;\">\n",
              "        \n",
              "  <svg xmlns=\"http://www.w3.org/2000/svg\" height=\"24px\"viewBox=\"0 0 24 24\"\n",
              "       width=\"24px\">\n",
              "    <path d=\"M0 0h24v24H0V0z\" fill=\"none\"/>\n",
              "    <path d=\"M18.56 5.44l.94 2.06.94-2.06 2.06-.94-2.06-.94-.94-2.06-.94 2.06-2.06.94zm-11 1L8.5 8.5l.94-2.06 2.06-.94-2.06-.94L8.5 2.5l-.94 2.06-2.06.94zm10 10l.94 2.06.94-2.06 2.06-.94-2.06-.94-.94-2.06-.94 2.06-2.06.94z\"/><path d=\"M17.41 7.96l-1.37-1.37c-.4-.4-.92-.59-1.43-.59-.52 0-1.04.2-1.43.59L10.3 9.45l-7.72 7.72c-.78.78-.78 2.05 0 2.83L4 21.41c.39.39.9.59 1.41.59.51 0 1.02-.2 1.41-.59l7.78-7.78 2.81-2.81c.8-.78.8-2.07 0-2.86zM5.41 20L4 18.59l7.72-7.72 1.47 1.35L5.41 20z\"/>\n",
              "  </svg>\n",
              "      </button>\n",
              "      \n",
              "  <style>\n",
              "    .colab-df-container {\n",
              "      display:flex;\n",
              "      flex-wrap:wrap;\n",
              "      gap: 12px;\n",
              "    }\n",
              "\n",
              "    .colab-df-convert {\n",
              "      background-color: #E8F0FE;\n",
              "      border: none;\n",
              "      border-radius: 50%;\n",
              "      cursor: pointer;\n",
              "      display: none;\n",
              "      fill: #1967D2;\n",
              "      height: 32px;\n",
              "      padding: 0 0 0 0;\n",
              "      width: 32px;\n",
              "    }\n",
              "\n",
              "    .colab-df-convert:hover {\n",
              "      background-color: #E2EBFA;\n",
              "      box-shadow: 0px 1px 2px rgba(60, 64, 67, 0.3), 0px 1px 3px 1px rgba(60, 64, 67, 0.15);\n",
              "      fill: #174EA6;\n",
              "    }\n",
              "\n",
              "    [theme=dark] .colab-df-convert {\n",
              "      background-color: #3B4455;\n",
              "      fill: #D2E3FC;\n",
              "    }\n",
              "\n",
              "    [theme=dark] .colab-df-convert:hover {\n",
              "      background-color: #434B5C;\n",
              "      box-shadow: 0px 1px 3px 1px rgba(0, 0, 0, 0.15);\n",
              "      filter: drop-shadow(0px 1px 2px rgba(0, 0, 0, 0.3));\n",
              "      fill: #FFFFFF;\n",
              "    }\n",
              "  </style>\n",
              "\n",
              "      <script>\n",
              "        const buttonEl =\n",
              "          document.querySelector('#df-ca7bc90c-1877-4389-b245-ec9f645dedf4 button.colab-df-convert');\n",
              "        buttonEl.style.display =\n",
              "          google.colab.kernel.accessAllowed ? 'block' : 'none';\n",
              "\n",
              "        async function convertToInteractive(key) {\n",
              "          const element = document.querySelector('#df-ca7bc90c-1877-4389-b245-ec9f645dedf4');\n",
              "          const dataTable =\n",
              "            await google.colab.kernel.invokeFunction('convertToInteractive',\n",
              "                                                     [key], {});\n",
              "          if (!dataTable) return;\n",
              "\n",
              "          const docLinkHtml = 'Like what you see? Visit the ' +\n",
              "            '<a target=\"_blank\" href=https://colab.research.google.com/notebooks/data_table.ipynb>data table notebook</a>'\n",
              "            + ' to learn more about interactive tables.';\n",
              "          element.innerHTML = '';\n",
              "          dataTable['output_type'] = 'display_data';\n",
              "          await google.colab.output.renderOutput(dataTable, element);\n",
              "          const docLink = document.createElement('div');\n",
              "          docLink.innerHTML = docLinkHtml;\n",
              "          element.appendChild(docLink);\n",
              "        }\n",
              "      </script>\n",
              "    </div>\n",
              "  </div>\n",
              "  "
            ]
          },
          "metadata": {},
          "execution_count": 103
        }
      ]
    },
    {
      "cell_type": "code",
      "source": [
        "vol_fore = np.sqrt(variance_fore)\n",
        "ann_vol = vol_fore * np.sqrt(252)/100\n",
        "ann_vol"
      ],
      "metadata": {
        "colab": {
          "base_uri": "https://localhost:8080/"
        },
        "id": "S-5QosaOH-4F",
        "outputId": "f30be6bd-af59-4643-fd48-c865bf7afafb"
      },
      "execution_count": null,
      "outputs": [
        {
          "output_type": "execute_result",
          "data": {
            "text/plain": [
              "0.1208744469202321"
            ]
          },
          "metadata": {},
          "execution_count": 43
        }
      ]
    },
    {
      "cell_type": "markdown",
      "source": [
        "## LSTM Model"
      ],
      "metadata": {
        "id": "JPi_xrkrMjxb"
      }
    },
    {
      "cell_type": "code",
      "source": [
        "import torch\n",
        "import torch.nn as nn\n",
        "import torch.nn.functional as F\n",
        "import torch.optim as optim"
      ],
      "metadata": {
        "id": "0LxpvGzcM03k"
      },
      "execution_count": null,
      "outputs": []
    },
    {
      "cell_type": "markdown",
      "source": [
        "### Prepare data"
      ],
      "metadata": {
        "id": "y2ue6tu_f1bN"
      }
    },
    {
      "cell_type": "code",
      "source": [
        "from ipywidgets import IntProgress\n",
        "from IPython.display import display"
      ],
      "metadata": {
        "id": "e1j-yB7-qphv"
      },
      "execution_count": null,
      "outputs": []
    },
    {
      "cell_type": "markdown",
      "source": [
        "For this section, the target value should be changed to match the output of garch. "
      ],
      "metadata": {
        "id": "m6FxdHVv0tGc"
      }
    },
    {
      "cell_type": "code",
      "source": [
        "# ADD TRAIN TEST VAL\n",
        "\n",
        "SEQ_LEN = 60\n",
        "\n",
        "X = []\n",
        "y = []\n",
        "\n",
        "for x in range(len(returns) - SEQ_LEN):\n",
        "  X.append(returns[x:x+SEQ_LEN]*100)\n",
        "  y.append(returns[x:x+SEQ_LEN+1].var()*100) \n",
        "  if (x+1) % 10000 == 0:\n",
        "    print(\"%d / %d\"%(x+1, len(returns)-SEQ_LEN))\n",
        "\n",
        "X = torch.from_numpy(np.array(X)).float()\n",
        "y = torch.from_numpy(np.array(y)).float()\n",
        "\n",
        "X = X.reshape((X.shape[0], X.shape[1], 1))\n",
        "y = y.reshape((y.shape[0], 1))"
      ],
      "metadata": {
        "id": "d6IvAJIBf09C",
        "colab": {
          "base_uri": "https://localhost:8080/"
        },
        "outputId": "d11baace-2aab-4b8e-f265-107a15d67169"
      },
      "execution_count": null,
      "outputs": [
        {
          "output_type": "stream",
          "name": "stdout",
          "text": [
            "10000 / 857265\n",
            "20000 / 857265\n",
            "30000 / 857265\n",
            "40000 / 857265\n",
            "50000 / 857265\n",
            "60000 / 857265\n",
            "70000 / 857265\n",
            "80000 / 857265\n",
            "90000 / 857265\n",
            "100000 / 857265\n",
            "110000 / 857265\n",
            "120000 / 857265\n",
            "130000 / 857265\n",
            "140000 / 857265\n",
            "150000 / 857265\n",
            "160000 / 857265\n",
            "170000 / 857265\n",
            "180000 / 857265\n",
            "190000 / 857265\n",
            "200000 / 857265\n",
            "210000 / 857265\n",
            "220000 / 857265\n",
            "230000 / 857265\n",
            "240000 / 857265\n",
            "250000 / 857265\n",
            "260000 / 857265\n",
            "270000 / 857265\n",
            "280000 / 857265\n",
            "290000 / 857265\n",
            "300000 / 857265\n",
            "310000 / 857265\n",
            "320000 / 857265\n",
            "330000 / 857265\n",
            "340000 / 857265\n",
            "350000 / 857265\n",
            "360000 / 857265\n",
            "370000 / 857265\n",
            "380000 / 857265\n",
            "390000 / 857265\n",
            "400000 / 857265\n",
            "410000 / 857265\n",
            "420000 / 857265\n",
            "430000 / 857265\n",
            "440000 / 857265\n",
            "450000 / 857265\n",
            "460000 / 857265\n",
            "470000 / 857265\n",
            "480000 / 857265\n",
            "490000 / 857265\n",
            "500000 / 857265\n",
            "510000 / 857265\n",
            "520000 / 857265\n",
            "530000 / 857265\n",
            "540000 / 857265\n",
            "550000 / 857265\n",
            "560000 / 857265\n",
            "570000 / 857265\n",
            "580000 / 857265\n",
            "590000 / 857265\n",
            "600000 / 857265\n",
            "610000 / 857265\n",
            "620000 / 857265\n",
            "630000 / 857265\n",
            "640000 / 857265\n",
            "650000 / 857265\n",
            "660000 / 857265\n",
            "670000 / 857265\n",
            "680000 / 857265\n",
            "690000 / 857265\n",
            "700000 / 857265\n",
            "710000 / 857265\n",
            "720000 / 857265\n",
            "730000 / 857265\n",
            "740000 / 857265\n",
            "750000 / 857265\n",
            "760000 / 857265\n",
            "770000 / 857265\n",
            "780000 / 857265\n",
            "790000 / 857265\n",
            "800000 / 857265\n",
            "810000 / 857265\n",
            "820000 / 857265\n",
            "830000 / 857265\n",
            "840000 / 857265\n",
            "850000 / 857265\n"
          ]
        }
      ]
    },
    {
      "cell_type": "code",
      "source": [
        "train_size = int(X.shape[0] * 0.50)\n",
        "val_size = int(X.shape[0] * 0.25)\n",
        "test_size = X.shape[0] - train_size - val_size"
      ],
      "metadata": {
        "id": "k9Mdx9yoHzrP"
      },
      "execution_count": null,
      "outputs": []
    },
    {
      "cell_type": "code",
      "source": [
        "train_X = X[:train_size]\n",
        "train_y = y[:train_size]\n",
        "\n",
        "val_X = X[train_size:train_size+val_size]\n",
        "val_y = y[train_size:train_size+val_size]\n",
        "\n",
        "test_X = X[train_size+val_size:]\n",
        "test_y = y[train_size+val_size:]"
      ],
      "metadata": {
        "id": "nvCvSA4kIG44"
      },
      "execution_count": null,
      "outputs": []
    },
    {
      "cell_type": "markdown",
      "source": [
        "### Define the LSTM Model"
      ],
      "metadata": {
        "id": "Xj5vT7aNdV5c"
      }
    },
    {
      "cell_type": "code",
      "source": [
        "class LSTMModel(nn.Module):\n",
        "  def __init__(self, input_dim, hidden_dim, target_size):\n",
        "    super(LSTMModel, self).__init__()\n",
        "    self.hidden_dim = hidden_dim\n",
        "    self.input_dim = input_dim\n",
        "\n",
        "    self.lstm = nn.LSTM(input_dim, hidden_dim, batch_first=True)\n",
        "\n",
        "    self.hidden2targ = nn.Linear(hidden_dim, target_size)\n",
        "\n",
        "  def forward(self, sequence):\n",
        "    lstm_out, _ = self.lstm(sequence)[-1]\n",
        "    targ = self.hidden2targ(lstm_out)\n",
        "    return targ"
      ],
      "metadata": {
        "id": "E6oiLSD0eVnp"
      },
      "execution_count": null,
      "outputs": []
    },
    {
      "cell_type": "markdown",
      "source": [
        "### Prepare for training"
      ],
      "metadata": {
        "id": "qbvRp_h25x1F"
      }
    },
    {
      "cell_type": "code",
      "source": [
        "import math"
      ],
      "metadata": {
        "id": "xGUBxm1_ytLa"
      },
      "execution_count": null,
      "outputs": []
    },
    {
      "cell_type": "code",
      "source": [
        "if torch.cuda.is_available():\n",
        "  dev = \"cuda:0\"\n",
        "else:\n",
        "  dev = \"cpu\"\n",
        "\n",
        "device = torch.device(dev)"
      ],
      "metadata": {
        "id": "U8fjcbv0JnAl"
      },
      "execution_count": null,
      "outputs": []
    },
    {
      "cell_type": "code",
      "source": [
        "model = LSTMModel(1, 100, 1)\n",
        "loss_function = nn.MSELoss()\n",
        "optimizer = optim.SGD(model.parameters(), lr=0.05)"
      ],
      "metadata": {
        "id": "ieslN6-4fyzT"
      },
      "execution_count": null,
      "outputs": []
    },
    {
      "cell_type": "code",
      "source": [
        "batch_size = 60\n",
        "train_batches = math.ceil(train_X.shape[0] / batch_size)\n",
        "val_batches = math.ceil(val_X.shape[0] / batch_size)\n",
        "test_batches = math.ceil(test_X.shape[0] / batch_size)"
      ],
      "metadata": {
        "id": "fV915LeRx9jM"
      },
      "execution_count": null,
      "outputs": []
    },
    {
      "cell_type": "code",
      "source": [
        "train_batches"
      ],
      "metadata": {
        "colab": {
          "base_uri": "https://localhost:8080/"
        },
        "id": "1afPkOF90KOp",
        "outputId": "08436808-220f-4eb4-bde7-c22d2182a105"
      },
      "execution_count": null,
      "outputs": [
        {
          "output_type": "execute_result",
          "data": {
            "text/plain": [
              "7144"
            ]
          },
          "metadata": {},
          "execution_count": 142
        }
      ]
    },
    {
      "cell_type": "code",
      "source": [
        "f = IntProgress(min = 0, max=300)\n",
        "display(f)\n",
        "\n",
        "loss_track = []\n",
        "\n",
        "model.to(device)\n",
        "\n",
        "for epoch in range(300):\n",
        "  train_epoch_loss = 0.0\n",
        "  train_running_loss = 0.0\n",
        "\n",
        "  for i in range(train_batches):\n",
        "    model.zero_grad()\n",
        "\n",
        "    x = train_X[i*batch_size:(i+1)*(batch_size)]\n",
        "    label = train_y[i*batch_size:(i+1)*(batch_size)]\n",
        "    label = label.reshape((1, label.shape[0], 1))\n",
        "\n",
        "    x = x.to(device)\n",
        "    label = label.to(device)\n",
        "\n",
        "    targs = model(x)\n",
        "\n",
        "\n",
        "    loss = loss_function(targs, label)\n",
        "    loss.backward()\n",
        "    optimizer.step()\n",
        "\n",
        "\n",
        "    train_epoch_loss += targs.shape[0] * loss.sum().item()\n",
        "    train_running_loss += loss.sum().item()\n",
        "\n",
        "    # if i % 1000 == 999:\n",
        "    #   print(\"\\t[%d, %d] TRAIN RUN loss: %.6f\" % (epoch+1, i+1, train_running_loss / 1000))\n",
        "    #   train_running_loss = 0.0\n",
        "\n",
        "  val_epoch_loss = 0.0\n",
        "  val_running_loss = 0.0\n",
        "\n",
        "  with torch.no_grad():\n",
        "    for i in range(val_batches):\n",
        "      model.zero_grad()\n",
        "\n",
        "      x = val_X[i*batch_size:(i+1)*(batch_size)]\n",
        "      label = val_y[i*batch_size:(i+1)*(batch_size)]\n",
        "      label = label.reshape((1, label.shape[0], 1))\n",
        "\n",
        "      x = x.to(device)\n",
        "      label = label.to(device)\n",
        "\n",
        "      targs = model(x)\n",
        "\n",
        "      loss = loss_function(targs, label)\n",
        "      val_epoch_loss += targs.shape[0] * loss.sum().item()\n",
        "\n",
        "      val_running_loss += loss.sum().item()\n",
        "\n",
        "      # if i % 1000 == 999:\n",
        "      #   print(\"\\t[%d, %d] VAL RUN loss: %.6f\" % (epoch+1, i+1, val_running_loss / 1000))\n",
        "      #   val_running_loss = 0.0\n",
        "\n",
        "\n",
        "  print(epoch+1, \"TRAIN: \", train_epoch_loss/train_batches, \"\\t VAL:\", val_epoch_loss/val_batches)\n",
        "\n",
        "  f.value += 1"
      ],
      "metadata": {
        "colab": {
          "base_uri": "https://localhost:8080/",
          "height": 357,
          "referenced_widgets": [
            "129848597d8f40d08cc370e047d3d40f",
            "56dc56e24a9f4f6db947d1a9dbfecde3",
            "537092dae1d04d9a82a1dc0b06a8f380"
          ]
        },
        "id": "FclsCf9i5qAt",
        "outputId": "9cb19181-0ee0-4278-e2e7-9673934667c2"
      },
      "execution_count": null,
      "outputs": [
        {
          "output_type": "display_data",
          "data": {
            "text/plain": [
              "IntProgress(value=0, max=300)"
            ],
            "application/vnd.jupyter.widget-view+json": {
              "version_major": 2,
              "version_minor": 0,
              "model_id": "129848597d8f40d08cc370e047d3d40f"
            }
          },
          "metadata": {}
        },
        {
          "output_type": "stream",
          "name": "stdout",
          "text": [
            "1 TRAIN:  107.13046801626018 \t VAL: 105.30029004291168\n",
            "2 TRAIN:  108.05559339964164 \t VAL: 105.30029004291168\n",
            "3 TRAIN:  108.05559339964164 \t VAL: 105.30029004291168\n",
            "4 TRAIN:  108.05559339964164 \t VAL: 105.30029004291168\n",
            "5 TRAIN:  108.05559339964164 \t VAL: 105.30029004291168\n"
          ]
        },
        {
          "output_type": "error",
          "ename": "KeyboardInterrupt",
          "evalue": "ignored",
          "traceback": [
            "\u001b[0;31m---------------------------------------------------------------------------\u001b[0m",
            "\u001b[0;31mKeyboardInterrupt\u001b[0m                         Traceback (most recent call last)",
            "\u001b[0;32m<ipython-input-143-23a19e168ac5>\u001b[0m in \u001b[0;36m<module>\u001b[0;34m\u001b[0m\n\u001b[1;32m     28\u001b[0m \u001b[0;34m\u001b[0m\u001b[0m\n\u001b[1;32m     29\u001b[0m \u001b[0;34m\u001b[0m\u001b[0m\n\u001b[0;32m---> 30\u001b[0;31m     \u001b[0mtrain_epoch_loss\u001b[0m \u001b[0;34m+=\u001b[0m \u001b[0mtargs\u001b[0m\u001b[0;34m.\u001b[0m\u001b[0mshape\u001b[0m\u001b[0;34m[\u001b[0m\u001b[0;36m0\u001b[0m\u001b[0;34m]\u001b[0m \u001b[0;34m*\u001b[0m \u001b[0mloss\u001b[0m\u001b[0;34m.\u001b[0m\u001b[0msum\u001b[0m\u001b[0;34m(\u001b[0m\u001b[0;34m)\u001b[0m\u001b[0;34m.\u001b[0m\u001b[0mitem\u001b[0m\u001b[0;34m(\u001b[0m\u001b[0;34m)\u001b[0m\u001b[0;34m\u001b[0m\u001b[0;34m\u001b[0m\u001b[0m\n\u001b[0m\u001b[1;32m     31\u001b[0m     \u001b[0mtrain_running_loss\u001b[0m \u001b[0;34m+=\u001b[0m \u001b[0mloss\u001b[0m\u001b[0;34m.\u001b[0m\u001b[0msum\u001b[0m\u001b[0;34m(\u001b[0m\u001b[0;34m)\u001b[0m\u001b[0;34m.\u001b[0m\u001b[0mitem\u001b[0m\u001b[0;34m(\u001b[0m\u001b[0;34m)\u001b[0m\u001b[0;34m\u001b[0m\u001b[0;34m\u001b[0m\u001b[0m\n\u001b[1;32m     32\u001b[0m \u001b[0;34m\u001b[0m\u001b[0m\n",
            "\u001b[0;31mKeyboardInterrupt\u001b[0m: "
          ]
        }
      ]
    },
    {
      "cell_type": "code",
      "source": [
        "test_loss = 0.0\n",
        "\n",
        "with torch.no_grad():\n",
        "  for i in range(test_batches):\n",
        "    model.zero_grad()\n",
        "    \n",
        "    x = test_X[i*batch_size:(i+1)*batch_size]\n",
        "    label = test_y[i*batch_size:(i+1)*(batch_size)]\n",
        "    label = label.reshape((1, label.shape[0], 1))\n",
        "\n",
        "    x = x.to(device)\n",
        "    label = label.to(device)\n",
        "\n",
        "    targs = model(x)\n",
        "\n",
        "    loss = loss_function(targs, label)\n",
        "\n",
        "    test_loss += targs.shape[0] * loss.item()\n",
        "\n",
        "print(\"TEST: \", test_loss/test_batches)"
      ],
      "metadata": {
        "colab": {
          "base_uri": "https://localhost:8080/"
        },
        "id": "HjFpiGeRkHjt",
        "outputId": "956f7f87-858b-447c-b746-ef85f20aff93"
      },
      "execution_count": null,
      "outputs": [
        {
          "output_type": "stream",
          "name": "stdout",
          "text": [
            "TEST:  45.134882556106625\n"
          ]
        }
      ]
    },
    {
      "cell_type": "code",
      "source": [
        "test = test_X[0:10]\n",
        "test = test.to(device)\n",
        "model(test)"
      ],
      "metadata": {
        "colab": {
          "base_uri": "https://localhost:8080/"
        },
        "id": "sp1M6DmJLKaU",
        "outputId": "806bf4bf-d3c3-4f47-fd30-e0aa54d1a921"
      },
      "execution_count": null,
      "outputs": [
        {
          "output_type": "execute_result",
          "data": {
            "text/plain": [
              "tensor([[[ 0.4934],\n",
              "         [-0.1559],\n",
              "         [ 0.6292],\n",
              "         [ 0.2146],\n",
              "         [ 0.0599],\n",
              "         [ 0.6040],\n",
              "         [-0.0354],\n",
              "         [-0.0979],\n",
              "         [ 0.1685],\n",
              "         [ 0.4877]]], device='cuda:0', grad_fn=<ViewBackward0>)"
            ]
          },
          "metadata": {},
          "execution_count": 135
        }
      ]
    },
    {
      "cell_type": "code",
      "source": [
        "test_y[0:10]"
      ],
      "metadata": {
        "colab": {
          "base_uri": "https://localhost:8080/"
        },
        "id": "8_FpuhIULXKk",
        "outputId": "17942f3d-c7c1-48d7-e028-e37cd9ed557b"
      },
      "execution_count": null,
      "outputs": [
        {
          "output_type": "execute_result",
          "data": {
            "text/plain": [
              "tensor([[0.1738],\n",
              "        [0.1738],\n",
              "        [0.1738],\n",
              "        [0.1739],\n",
              "        [0.1768],\n",
              "        [0.1533],\n",
              "        [0.1534],\n",
              "        [0.1194],\n",
              "        [0.1200],\n",
              "        [0.1196]])"
            ]
          },
          "metadata": {},
          "execution_count": 136
        }
      ]
    },
    {
      "cell_type": "markdown",
      "source": [
        "## DNN"
      ],
      "metadata": {
        "id": "J0BwJps4sAlN"
      }
    }
  ]
}